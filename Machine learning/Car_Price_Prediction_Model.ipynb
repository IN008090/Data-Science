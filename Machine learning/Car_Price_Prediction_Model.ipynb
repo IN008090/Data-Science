{
 "cells": [
  {
   "cell_type": "markdown",
   "id": "391fb97e",
   "metadata": {},
   "source": [
    "## Exercise\n",
    "+ At the same level as this notebook on github, there is an Exercise folder that contains carprices.csv. This file has car sell prices for 3 different models. First plot data points on a scatter plot chart to see if linear regression model can be applied. If yes, then build a model that can answer following questions,\n",
    "\n",
    "1) Predict price of a mercedez benz that is 4 yr old with mileage 45000\n",
    "\n",
    "2) Predict price of a BMW X5 that is 7 yr old with mileage 86000\n",
    "\n",
    "3) Tell me the score (accuracy) of your model. (Hint: use LinearRegression().score())"
   ]
  },
  {
   "cell_type": "code",
   "execution_count": null,
   "id": "95ca297f",
   "metadata": {},
   "outputs": [],
   "source": [
    "#Importing the libaries\n",
    "import pandas as pd \n",
    "import numpy as np\n",
    "import matplotlib.pyplot as plt \n",
    "from sklearn import linear_model \n",
    "pd.set_option('display.max_rows',500)\n",
    "pd.set_option('display.max_columns',500)\n",
    "pd.set_option('display.width',500)"
   ]
  },
  {
   "cell_type": "code",
   "execution_count": null,
   "id": "93eb3353",
   "metadata": {},
   "outputs": [],
   "source": [
    "#Importing the csv files\n",
    "df=pd.read_csv('cAR selling price.csv')"
   ]
  },
  {
   "cell_type": "code",
   "execution_count": null,
   "id": "4f3a813c",
   "metadata": {},
   "outputs": [],
   "source": [
    "df"
   ]
  },
  {
   "cell_type": "code",
   "execution_count": null,
   "id": "382b2575",
   "metadata": {
    "scrolled": true
   },
   "outputs": [],
   "source": [
    "df.columns"
   ]
  },
  {
   "cell_type": "code",
   "execution_count": null,
   "id": "8af0d79d",
   "metadata": {},
   "outputs": [],
   "source": [
    "new_df=['Car Model', 'Mileage', 'Sell Price($)', 'Age(yrs)']  # Firstly remove the space in the columns "
   ]
  },
  {
   "cell_type": "code",
   "execution_count": null,
   "id": "733d6cdf",
   "metadata": {},
   "outputs": [],
   "source": [
    "df.columns=df.columns.str.replace(' ','_') # We can replace the space with underscore\n",
    "df"
   ]
  },
  {
   "cell_type": "code",
   "execution_count": null,
   "id": "d067436c",
   "metadata": {},
   "outputs": [],
   "source": [
    "# Creating the plot in matplotlib \n",
    "# Create plot in inline magic \n",
    "%matplotlib inline  \n",
    "plt.xlabel('Car_Model')\n",
    "plt.ylabel('Sell_Price')\n",
    "plt.scatter(df['Age(yrs)'],df['Sell_Price($)'],color='g',marker='+')   # With respect to mileage and selling price can predict the model"
   ]
  },
  {
   "cell_type": "code",
   "execution_count": null,
   "id": "96a0a846",
   "metadata": {},
   "outputs": [],
   "source": [
    "plt.scatter(df['Mileage'],df['Sell_Price($)'],color='r',marker='+') "
   ]
  },
  {
   "cell_type": "markdown",
   "id": "22c25c5d",
   "metadata": {},
   "source": [
    "## Using get_dummies for converting the str into int values"
   ]
  },
  {
   "cell_type": "code",
   "execution_count": null,
   "id": "655a9d45",
   "metadata": {},
   "outputs": [],
   "source": [
    "new_df=pd.get_dummies(df['Car_Model'])\n",
    "new_df"
   ]
  },
  {
   "cell_type": "code",
   "execution_count": null,
   "id": "3e8cb4b9",
   "metadata": {},
   "outputs": [],
   "source": [
    "# Now concate both the data set\n",
    "df=pd.concat([df,new_df],axis='columns')\n",
    "df"
   ]
  },
  {
   "cell_type": "code",
   "execution_count": null,
   "id": "bd930e8b",
   "metadata": {},
   "outputs": [],
   "source": [
    "# In the above data multi-linearity variable create which means with one variable 3 more variable created this creates the complexity in the model\n",
    "# To avoid the complexity in the model we have to eleminate 1 column from 3 column\n",
    "df_next=df.columns"
   ]
  },
  {
   "cell_type": "code",
   "execution_count": null,
   "id": "fcfb1e5f",
   "metadata": {},
   "outputs": [],
   "source": [
    "df"
   ]
  },
  {
   "cell_type": "code",
   "execution_count": null,
   "id": "bef9da4b",
   "metadata": {},
   "outputs": [],
   "source": [
    "X=df.drop(['Audi A5','Car_Model','Sell_Price($)'], axis= 'columns')\n",
    "X  # X is the data"
   ]
  },
  {
   "cell_type": "code",
   "execution_count": null,
   "id": "c9aad692",
   "metadata": {},
   "outputs": [],
   "source": [
    "y=df['Sell_Price($)']\n",
    "y   # y is the target value"
   ]
  },
  {
   "cell_type": "code",
   "execution_count": null,
   "id": "6849963b",
   "metadata": {},
   "outputs": [],
   "source": [
    "# Create a linearRegression object \n",
    "reg= linear_model.LinearRegression()"
   ]
  },
  {
   "cell_type": "code",
   "execution_count": null,
   "id": "fae35d08",
   "metadata": {},
   "outputs": [],
   "source": [
    "reg.fit(X,y)"
   ]
  },
  {
   "cell_type": "code",
   "execution_count": null,
   "id": "e583ff9a",
   "metadata": {},
   "outputs": [],
   "source": [
    "reg.intercept_"
   ]
  },
  {
   "cell_type": "code",
   "execution_count": null,
   "id": "c8a233eb",
   "metadata": {},
   "outputs": [],
   "source": [
    "reg.coef_"
   ]
  },
  {
   "cell_type": "code",
   "execution_count": null,
   "id": "8426a83c",
   "metadata": {},
   "outputs": [],
   "source": [
    "reg.score(X,y)"
   ]
  },
  {
   "cell_type": "code",
   "execution_count": null,
   "id": "4f3004a5",
   "metadata": {},
   "outputs": [],
   "source": [
    "reg.predict([[45000,4,0,0]])"
   ]
  },
  {
   "cell_type": "code",
   "execution_count": null,
   "id": "1cf9e7d5",
   "metadata": {},
   "outputs": [],
   "source": [
    "reg.predict([[86000,7,0,1]])"
   ]
  },
  {
   "cell_type": "markdown",
   "id": "d01de11c",
   "metadata": {},
   "source": [
    "## Methord II- Train_Test_Split "
   ]
  },
  {
   "cell_type": "code",
   "execution_count": null,
   "id": "3b8338b2",
   "metadata": {},
   "outputs": [],
   "source": [
    "from sklearn.model_selection import train_test_split"
   ]
  },
  {
   "cell_type": "code",
   "execution_count": null,
   "id": "644dbeb6",
   "metadata": {},
   "outputs": [],
   "source": [
    "X_train,y_train,X_test,y_test=train_test_split(X,y,train_size=0.3)"
   ]
  },
  {
   "cell_type": "code",
   "execution_count": null,
   "id": "f5ba0308",
   "metadata": {},
   "outputs": [],
   "source": [
    "reg.fit(X,y)"
   ]
  },
  {
   "cell_type": "code",
   "execution_count": null,
   "id": "5727a7f3",
   "metadata": {},
   "outputs": [],
   "source": [
    "reg.score(X,y)"
   ]
  },
  {
   "cell_type": "code",
   "execution_count": null,
   "id": "d5b4b2b9",
   "metadata": {},
   "outputs": [],
   "source": [
    "reg.predict([[69000,6,1,0]])"
   ]
  }
 ],
 "metadata": {
  "kernelspec": {
   "display_name": "Python 3 (ipykernel)",
   "language": "python",
   "name": "python3"
  },
  "language_info": {
   "codemirror_mode": {
    "name": "ipython",
    "version": 3
   },
   "file_extension": ".py",
   "mimetype": "text/x-python",
   "name": "python",
   "nbconvert_exporter": "python",
   "pygments_lexer": "ipython3",
   "version": "3.9.12"
  }
 },
 "nbformat": 4,
 "nbformat_minor": 5
}
